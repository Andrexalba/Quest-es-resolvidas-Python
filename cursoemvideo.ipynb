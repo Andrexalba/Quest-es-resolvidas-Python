{
  "nbformat": 4,
  "nbformat_minor": 0,
  "metadata": {
    "colab": {
      "name": "cursoemvideo.ipynb",
      "provenance": [],
      "collapsed_sections": []
    },
    "kernelspec": {
      "name": "python3",
      "display_name": "Python 3"
    },
    "language_info": {
      "name": "python"
    }
  },
  "cells": [
    {
      "cell_type": "markdown",
      "source": [
        "Desafio 001 - Crie um programa que escreva Olá, mundo! na tela."
      ],
      "metadata": {
        "id": "Gc6TAbJuQXod"
      }
    },
    {
      "cell_type": "code",
      "execution_count": null,
      "metadata": {
        "id": "KaskV-cFOYRC",
        "colab": {
          "base_uri": "https://localhost:8080/"
        },
        "outputId": "841c827a-fe62-465c-9297-19dd6c40d5b4"
      },
      "outputs": [
        {
          "output_type": "stream",
          "name": "stdout",
          "text": [
            "ola mundo!\n"
          ]
        }
      ],
      "source": [
        "print('ola mundo!')\n"
      ]
    },
    {
      "cell_type": "markdown",
      "source": [
        "Desafio 002 - Faça um programa que leia o nome de uma pessoa e mostre uma mensagem de boas-vindas."
      ],
      "metadata": {
        "id": "6KSvpQzVSBPf"
      }
    },
    {
      "cell_type": "code",
      "source": [
        "nome = str (input(\"Informe seu nome :\"))\n",
        "print('Seja bem vindo, {}!,'.format(nome))\n"
      ],
      "metadata": {
        "colab": {
          "base_uri": "https://localhost:8080/"
        },
        "id": "v0JHXkOCSLCY",
        "outputId": "2aa346a2-e75b-4b3b-a36a-76e9819d8835"
      },
      "execution_count": null,
      "outputs": [
        {
          "output_type": "stream",
          "name": "stdout",
          "text": [
            "Informe seu nome :André\n",
            "Seja bem vindo, André!,\n"
          ]
        }
      ]
    },
    {
      "cell_type": "markdown",
      "source": [
        "Desafio 003 -  Crie um programa que leia dois números e mostre a soma entre eles."
      ],
      "metadata": {
        "id": "qTyJq2rsWvC3"
      }
    },
    {
      "cell_type": "code",
      "source": [
        "n1 = int (input('Digite um número :'))\n",
        "n2 = int (input('Digite outro número :'))\n",
        "s = n1 + n2\n",
        "print(f'A soma entre {n1} e {n2} é {s}')\n"
      ],
      "metadata": {
        "colab": {
          "base_uri": "https://localhost:8080/"
        },
        "id": "lSDOYclkWyPw",
        "outputId": "6254eb50-8300-4ad4-aff4-73baeac9bb8e"
      },
      "execution_count": null,
      "outputs": [
        {
          "output_type": "stream",
          "name": "stdout",
          "text": [
            "Digite um número :5\n",
            "Digite outro número :6\n",
            "A soma entre 5 e 6 é 11\n"
          ]
        }
      ]
    },
    {
      "cell_type": "markdown",
      "source": [
        "Desafio 004 - Faça um programa que leia algo pelo teclado e mostre na tela o seu tipo primitivo e todas as informações possíveis sobre ele."
      ],
      "metadata": {
        "id": "9M7VBxxndrAj"
      }
    },
    {
      "cell_type": "code",
      "source": [
        "a = input('Digite algo :')\n",
        "print(f''' \n",
        "Qual o seu tipo primitivo?, {type(a)}\n",
        "É numero? {a.isnumeric()}\n",
        "É alfabetico? {a.isalpha()}\n",
        "É alfanúmerico? {a.isalnum()}\n",
        "É maiscúla? {a.isupper()}\n",
        "É minúscula? {a.islower()}\n",
        "É capitalizada? {a.istitle()}''')\n"
      ],
      "metadata": {
        "id": "b9jKgYsBdueZ",
        "colab": {
          "base_uri": "https://localhost:8080/"
        },
        "outputId": "ad00171d-a119-4eb2-83a9-123e0bcb7cd5"
      },
      "execution_count": null,
      "outputs": [
        {
          "output_type": "stream",
          "name": "stdout",
          "text": [
            "Digite algo :PYTHON\n",
            " \n",
            "Qual o seu tipo primitivo?, <class 'str'>\n",
            "É numero? False\n",
            "É alfabetico? True\n",
            "É alfanúmerico? True\n",
            "É maiscúla? True\n",
            "É minúscula? False\n",
            "É capitalizada? False\n"
          ]
        }
      ]
    },
    {
      "cell_type": "markdown",
      "source": [
        "Desafio 005 - Faça um programa que leia um número Inteiro e mostre na tela o seu sucessor e seu antecessor. Sucessor e antecessor"
      ],
      "metadata": {
        "id": "Uu4RMJ3gYG6j"
      }
    },
    {
      "cell_type": "code",
      "source": [
        "a = int (input('Digite um número:'))\n",
        "print('O seu sucessor é' , a + 1)\n",
        "print('O seu antecessor é' , a - 1)\n"
      ],
      "metadata": {
        "colab": {
          "base_uri": "https://localhost:8080/"
        },
        "id": "hg38JgvWYImn",
        "outputId": "c707fa5b-2001-4137-9748-59a1014dfddc"
      },
      "execution_count": null,
      "outputs": [
        {
          "output_type": "stream",
          "name": "stdout",
          "text": [
            "Digite um número:123\n",
            "O seu sucessor é 124\n",
            "O seu antecessor é 122\n"
          ]
        }
      ]
    },
    {
      "cell_type": "code",
      "source": [
        "a = int (input('Informe um número:'))\n",
        "print(f'''\n",
        "O seu sucessor é {a + 1}\n",
        "O seu antecessor é {a - 1}''')\n"
      ],
      "metadata": {
        "colab": {
          "base_uri": "https://localhost:8080/"
        },
        "id": "u2lTaV2DYlgo",
        "outputId": "743d4c76-ce1c-4f56-a213-3724be28525d"
      },
      "execution_count": null,
      "outputs": [
        {
          "output_type": "stream",
          "name": "stdout",
          "text": [
            "Informe um número:429\n",
            "\n",
            "O seu sucessor é 430\n",
            "O seu antecessor é 428\n"
          ]
        }
      ]
    },
    {
      "cell_type": "markdown",
      "source": [
        "Desafio 006 - Crie um algoritmo que leia um número e mostre o seu dobro, triplo e raiz quadrada. Dobro, Triplo e raiz quadrada"
      ],
      "metadata": {
        "id": "7bWMTDEeZOBV"
      }
    },
    {
      "cell_type": "code",
      "source": [
        "a = float (input('informe um número:'))\n",
        "print(f'''\n",
        "o dobro do seu número é {2 * a}\n",
        "O triplo do seu número é {a * 3}\n",
        "A sua raiz quadrada é {a **(1/2)}''')\n"
      ],
      "metadata": {
        "colab": {
          "base_uri": "https://localhost:8080/"
        },
        "id": "nfZui5F_ZQgP",
        "outputId": "43956f12-ff9b-4d14-c7e2-0c65d35da5a9"
      },
      "execution_count": null,
      "outputs": [
        {
          "output_type": "stream",
          "name": "stdout",
          "text": [
            "informe um número:25\n",
            "\n",
            "o dobro do seu número é 50.0\n",
            "O triplo do seu número é 75.0\n",
            "A sua raiz quadrada é 5.0\n"
          ]
        }
      ]
    },
    {
      "cell_type": "markdown",
      "source": [
        "Desafio 007 - Desenvolva um programa que leia as duas notas de um aluno, calcule e mostre a sua média. Média Aritmética"
      ],
      "metadata": {
        "id": "vUdFOvZBaGkQ"
      }
    },
    {
      "cell_type": "code",
      "source": [
        "n1 = float (input('Informe a primeira nota:'))\n",
        "n2 = float(input('Informe a segunda nota:'))\n",
        "print(f'A sua média foi {(n1 + n2) / 2}')\n"
      ],
      "metadata": {
        "colab": {
          "base_uri": "https://localhost:8080/"
        },
        "id": "l87R8qmQaIbv",
        "outputId": "3b8ac688-3bdd-43f6-9e6a-4776a81d7f80"
      },
      "execution_count": null,
      "outputs": [
        {
          "output_type": "stream",
          "name": "stdout",
          "text": [
            "Informe a primeira nota:8\n",
            "Informe a segunda nota:6\n",
            "A sua média foi 7.0\n"
          ]
        }
      ]
    },
    {
      "cell_type": "markdown",
      "source": [
        "Desafio 008 - Escreva um programa que leia um valor em metros e o exiba convertido em centímetros e milímetros. Conversor de medidas"
      ],
      "metadata": {
        "id": "F1nQHhHqajMg"
      }
    },
    {
      "cell_type": "code",
      "source": [
        "x = float (input('Informe o seu número em metros:'))\n",
        "print(f'''\n",
        "O seu número convertido em cm é {x * 100}\n",
        "O seu número convertido em mm é {x * 1000}''')\n"
      ],
      "metadata": {
        "colab": {
          "base_uri": "https://localhost:8080/"
        },
        "id": "7jY3x6Ilak52",
        "outputId": "de9867ed-1f3d-4606-ba59-f6c77e347ce1"
      },
      "execution_count": null,
      "outputs": [
        {
          "output_type": "stream",
          "name": "stdout",
          "text": [
            "Informe o seu número em metros:2\n",
            "\n",
            "O seu número convertido em cm é 200.0\n",
            "O seu número convertido em mm é 2000.0\n"
          ]
        }
      ]
    },
    {
      "cell_type": "markdown",
      "source": [
        "Desafio 009 -  Faça um programa que leia um número Inteiro qualquer e mostre na tela a sua tabuada. Tabuada"
      ],
      "metadata": {
        "id": "HaaB3FnSbcdb"
      }
    },
    {
      "cell_type": "code",
      "source": [
        "x = int (input('Informe um número para ver sua tabuada: '))\n",
        "print('-' * 14)\n",
        "print(f''' {x} * {1:.2f} = {x * 1} \\n {x} * {2:.2f} = {x * 2} \\n {x} * {3:.2f} = {x * 3} \\n {x} * {4:.2f} = {x * 4} \\n {x} * {5:.2f} = {x * 5} \\n {x} * {6:.2f} = {x * 6} \\n {x} * {7:.2f} = {x * 7} \\n {x} * {8:.2f} = {x * 8} \\n {x} * {9:.2f} = {x * 9} \\n {x} * {10:.1f} = {x * 10}''')\n",
        "print('-' * 14) \n"
      ],
      "metadata": {
        "colab": {
          "base_uri": "https://localhost:8080/"
        },
        "id": "MOaeoM81zFzi",
        "outputId": "3bd89cc3-b9fd-4c53-8e74-0ed81fd41f70"
      },
      "execution_count": null,
      "outputs": [
        {
          "output_type": "stream",
          "name": "stdout",
          "text": [
            "Informe um número para ver sua tabuada: 9\n",
            "--------------\n",
            " 9 * 1.00 = 9 \n",
            " 9 * 2.00 = 18 \n",
            " 9 * 3.00 = 27 \n",
            " 9 * 4.00 = 36 \n",
            " 9 * 5.00 = 45 \n",
            " 9 * 6.00 = 54 \n",
            " 9 * 7.00 = 63 \n",
            " 9 * 8.00 = 72 \n",
            " 9 * 9.00 = 81 \n",
            " 9 * 10.0 = 90\n",
            "--------------\n"
          ]
        }
      ]
    },
    {
      "cell_type": "markdown",
      "source": [
        "Desafio 010 - Crie um programa que leia quanto dinheiro uma pessoa tem na carteira e mostre quantos dólares ela pode comprar. Conversor de moedas"
      ],
      "metadata": {
        "id": "D8Cm9vwVctJv"
      }
    },
    {
      "cell_type": "code",
      "source": [
        "d = float (input('Informe quantos R$ tem na sua carteira:'))\n",
        "print('Eu tenho em reais R$', d)\n",
        "print(f'''\n",
        "voce pode comprar essa qtde de dólares $'{d / 5.0405:.2f}  \n",
        "voce pode comprar essa qtde de euros €'{d / 5.5677:.2f}''' )\n"
      ],
      "metadata": {
        "colab": {
          "base_uri": "https://localhost:8080/"
        },
        "id": "rW9hFgdicvkZ",
        "outputId": "82a77400-8c5c-43bd-8076-7a5ac0963c9e"
      },
      "execution_count": null,
      "outputs": [
        {
          "output_type": "stream",
          "name": "stdout",
          "text": [
            "Informe quantos R$ tem na sua carteira:1000\n",
            "Eu tenho em reais R$ 1000.0\n",
            "\n",
            "voce pode comprar essa qtde de dólares $'198.39  \n",
            "voce pode comprar essa qtde de euros €'179.61\n"
          ]
        }
      ]
    },
    {
      "cell_type": "markdown",
      "source": [
        "Desafio 011 - Faça um programa que leia a largura e a altura de uma parede em metros, calcule a sua área e a quantidade de tinta necessária para pintá-la, sabendo que cada litro de tinta pinta uma área de 2 metros quadrados. Pintando parede"
      ],
      "metadata": {
        "id": "vabJIRjqejZT"
      }
    },
    {
      "cell_type": "code",
      "source": [
        "h = float (input('Informe a altura da parede em metros:'))\n",
        "l = float (input('Informe a largura da parede em metros:'))\n",
        "area = h * l\n",
        "print('A área da parede é em m²', area)\n",
        "# Cada litro de tinta pinta um total de 2m²\n",
        "qtde_tinta = area / 2\n",
        "print('A quantidade de litros de tinta é', qtde_tinta)\n"
      ],
      "metadata": {
        "colab": {
          "base_uri": "https://localhost:8080/"
        },
        "id": "hgBKHWY4elxB",
        "outputId": "5e52fa70-5254-4d02-b5d2-0817113e4727"
      },
      "execution_count": null,
      "outputs": [
        {
          "output_type": "stream",
          "name": "stdout",
          "text": [
            "Informe a altura da parede em metros:4\n",
            "Informe a largura da parede em metros:3\n",
            "A área da parede é em m² 12.0\n",
            "A quantidade de litros de tinta é 6.0\n"
          ]
        }
      ]
    },
    {
      "cell_type": "markdown",
      "source": [
        "Desafio 012 - Faça um algoritmo que leia o preço de um produto e mostre seu novo preço, com 5% de desconto. Calculando descontos"
      ],
      "metadata": {
        "id": "kjYSsmeZggJ-"
      }
    },
    {
      "cell_type": "code",
      "source": [
        "p = float (input('Informe o preço do produto em R$: '))\n",
        "print('O preço do produto é em R$:', p)\n",
        "print(f'O preço com o desconto de 5% é em R${p * 0.95:.2f}')\n"
      ],
      "metadata": {
        "colab": {
          "base_uri": "https://localhost:8080/"
        },
        "id": "rjvOUN5S82Lz",
        "outputId": "cebdcee9-ad62-4db0-c45c-0400bc9b18a2"
      },
      "execution_count": null,
      "outputs": [
        {
          "output_type": "stream",
          "name": "stdout",
          "text": [
            "Informe o preço do produto em R$: 1000\n",
            "O preço do produto é em R$: 1000.0\n",
            "O preço com o desconto de 5% é em R$950.00\n"
          ]
        }
      ]
    },
    {
      "cell_type": "markdown",
      "source": [
        "Desafio 013 - Faça um algoritmo que leia o salário de um funcionário e mostre seu novo salário, com 15% de aumento. Reajuste salarial"
      ],
      "metadata": {
        "id": "FVH4YvZh-HRb"
      }
    },
    {
      "cell_type": "code",
      "source": [
        "s = float (input('Informe o seu sálario em R$:'))\n",
        "print(f'O novo sálario com 15% de aumento ficará em R${s * 1.15:.2f}')\n"
      ],
      "metadata": {
        "colab": {
          "base_uri": "https://localhost:8080/"
        },
        "id": "iDRS3jA_-La7",
        "outputId": "7b20ce18-d605-4917-eb5a-96c2b79aa6cb"
      },
      "execution_count": null,
      "outputs": [
        {
          "output_type": "stream",
          "name": "stdout",
          "text": [
            "Informe o seu sálario em R$:1000\n",
            "O novo sálario com 15% de aumento ficará em R$1150.00\n"
          ]
        }
      ]
    },
    {
      "cell_type": "markdown",
      "source": [
        "Desafio 014 -  Escreva um programa que converta uma temperatura digitando em graus Celsius e converta para graus Fahrenheit. Conversor de temperaturas"
      ],
      "metadata": {
        "id": "vT3DlEsrA2aR"
      }
    },
    {
      "cell_type": "code",
      "source": [
        "C = float (input('Informe a temperatura em graus celsuis:'))\n",
        "print(f'O valor da temperatura em °F é {C * (9 / 5) + 32}')\n",
        "# F = (C × (9/5)) + 32\n"
      ],
      "metadata": {
        "colab": {
          "base_uri": "https://localhost:8080/"
        },
        "id": "FIs_JDWmA75J",
        "outputId": "c722f326-ec97-4ede-a8cb-441725bf9813"
      },
      "execution_count": null,
      "outputs": [
        {
          "output_type": "stream",
          "name": "stdout",
          "text": [
            "Informe a temperatura em graus celsuis:45\n",
            "O valor da temperatura em °F é 113.0\n"
          ]
        }
      ]
    },
    {
      "cell_type": "markdown",
      "source": [
        "Desafio 015 - Escreva um programa que pergunte a quantidade de Km percorridos por um carro alugado e a quantidade de dias pelos quais ele foi alugado. Calcule o preço a pagar, sabendo que o carro custa R$60 por dia e R$0,15 por Km rodado. Aluguel de carros"
      ],
      "metadata": {
        "id": "jDqrIgstFJoU"
      }
    },
    {
      "cell_type": "code",
      "source": [
        "a = int (input('informe a quantidade de dias:'))\n",
        "km = float (input('informe a quilometragem percorrida:'))\n",
        "print(f'O preco a pagar é em R${a * 60 + km * 0.15:.2f}')\n"
      ],
      "metadata": {
        "colab": {
          "base_uri": "https://localhost:8080/"
        },
        "id": "05nXqwxHGb9X",
        "outputId": "003b2e7e-adb6-48ce-91ac-be57bd87d33e"
      },
      "execution_count": null,
      "outputs": [
        {
          "output_type": "stream",
          "name": "stdout",
          "text": [
            "informe a quantidade de dias:20\n",
            "informe a quilometragem percorrida:1200\n",
            "O preco a pagar é em R$1380.00\n"
          ]
        }
      ]
    },
    {
      "cell_type": "markdown",
      "source": [
        "Desafio 016 Quebrando um número - Crie um programa que leia um número Real qualquer pelo teclado e mostre na tela a sua porção Inteira."
      ],
      "metadata": {
        "id": "eRub9dKeFu7S"
      }
    },
    {
      "cell_type": "code",
      "source": [
        "num = float (input('Digite um número:'))\n",
        "print(f'A porção inteira desse número é', int (num))\n"
      ],
      "metadata": {
        "colab": {
          "base_uri": "https://localhost:8080/"
        },
        "id": "XR8rdBsnb6-1",
        "outputId": "0d682069-2c26-4e19-fcd3-e392bb538687"
      },
      "execution_count": null,
      "outputs": [
        {
          "output_type": "stream",
          "name": "stdout",
          "text": [
            "Digite um número:3.1415\n",
            "A porção inteira desse número é 3\n"
          ]
        }
      ]
    },
    {
      "cell_type": "code",
      "source": [
        "import math\n",
        "num = float (input('Digite um número '))\n",
        "print('A porção inteira desse número é', math.floor(num))\n"
      ],
      "metadata": {
        "colab": {
          "base_uri": "https://localhost:8080/"
        },
        "id": "w6ba52ZzF2vu",
        "outputId": "097bdf68-bb48-46a9-8607-6534f8829d7d"
      },
      "execution_count": null,
      "outputs": [
        {
          "output_type": "stream",
          "name": "stdout",
          "text": [
            "Digite um número 6.127\n",
            "A porção inteira desse número é 6\n"
          ]
        }
      ]
    },
    {
      "cell_type": "code",
      "source": [
        "from math import trunc\n",
        "num = float (input('Digite um número: '))\n",
        "print(f'A porção interia desse número é', trunc(num))\n"
      ],
      "metadata": {
        "colab": {
          "base_uri": "https://localhost:8080/"
        },
        "id": "5hc7jTmQcTEj",
        "outputId": "d8790b5e-35d5-48cd-80d7-6daf37ec7cce"
      },
      "execution_count": null,
      "outputs": [
        {
          "output_type": "stream",
          "name": "stdout",
          "text": [
            "Digite um número: 228.145\n",
            "A porção interia desse número é 228\n"
          ]
        }
      ]
    },
    {
      "cell_type": "markdown",
      "source": [
        "Desafio 017 Catetos e Hipotenusa - Faça um programa que leia o comprimento do cateto oposto e do cateto adjacente de um triângulo retângulo. Calcule e mostre o comprimento da hipotenusa."
      ],
      "metadata": {
        "id": "1d_ty-7dHjEH"
      }
    },
    {
      "cell_type": "code",
      "source": [
        "import math\n",
        "c_opo = float (input('Digite o cateto oposto: '))\n",
        "c_adj = float (input('Digite o cateto adjacente: '))\n",
        "h = math.hypot(c_opo, c_adj)\n",
        "print(f'O valor da hipotenusa é', h)\n"
      ],
      "metadata": {
        "colab": {
          "base_uri": "https://localhost:8080/"
        },
        "id": "S7zwj5_SHrKy",
        "outputId": "4ed85cac-9035-4edb-e58c-96fd898189d3"
      },
      "execution_count": null,
      "outputs": [
        {
          "output_type": "stream",
          "name": "stdout",
          "text": [
            "Digite o cateto oposto: 3\n",
            "Digite o cateto adjacente: 4\n",
            "O valor da hipotenusa é 5.0\n"
          ]
        }
      ]
    },
    {
      "cell_type": "code",
      "source": [
        "c_opo = float (input('Digite o valor do cateto oposto:'))\n",
        "c_adj = float (input('Digite o valor do cateto adjacente:'))\n",
        "h = ((c_opo**2) + (c_adj ** 2)) ** (1/2)\n",
        "print(f'O valor da hipotenusa é', h)\n"
      ],
      "metadata": {
        "colab": {
          "base_uri": "https://localhost:8080/"
        },
        "id": "uCw_KuWkdICr",
        "outputId": "270445e1-63c2-4826-b569-e4a72ca57b0e"
      },
      "execution_count": null,
      "outputs": [
        {
          "output_type": "stream",
          "name": "stdout",
          "text": [
            "Digite o valor do cateto oposto:3\n",
            "Digite o valor do cateto adjacente:4\n",
            "O valor da hipotenusa é 5.0\n"
          ]
        }
      ]
    },
    {
      "cell_type": "markdown",
      "source": [
        "Desafio 018 Seno, cosseno e tangente - Faça um programa que leia um ângulo qualquer e mostre na tela o valor do seno, cosseno e tangente desse ângulo"
      ],
      "metadata": {
        "id": "7qZ6InatI_7Y"
      }
    },
    {
      "cell_type": "code",
      "source": [
        "import math\n",
        "a = float (input('Digite o valor do ângulo: '))\n",
        "s =  math.sin(math.radians(a))\n",
        "c =  math.cos(math.radians(a))\n",
        "t = math.tan(math.radians(a))\n",
        "print(f''' \n",
        "O valor do seno é {s:.2f}\n",
        "O valor do cosseno é {c:.2f} \n",
        "O valor da tangente é {t:.2f}''')\n",
        "print('-' * 40)\n",
        "\n",
        "'''math -> Biblioteca de operadores aritméticos {\n",
        "\n",
        "    sqrt()  ---> Raiz Quadrada de um numero ------- raiz = math.sqrt(numero)\n",
        "\n",
        "     floor() ---> Arredonda o numero para baixo ---- 5,23 fica 5,00\n",
        "\n",
        "     ceil() -----> Retorna um valor inteiro ---------------- 5,23 fica 5\n",
        "\n",
        "     hypot() ---> Retorna a hipotenusa dos catetos - math.hypot(co, ca)\n",
        "\n",
        "     pow() ----> Potencia de um numero ---------------- pow(2, 3) = 2³ = 8\n",
        "\n",
        "     radians()-> Converte em graus radianos ---------- print(math.radians(180))\n",
        "\n",
        "     cos() -----> Retorne o cosseno em radianos --- print(math.cos(math.radians(x)))\n",
        "\n",
        "     sin() ------> Retorne o seno em radianos --------- print(math.sin(math.radians(x)))\n",
        "\n",
        "     tan() -----> Retorne a tangente em radianos---- print(math.tan(math.radians(x)))'''\n"
      ],
      "metadata": {
        "colab": {
          "base_uri": "https://localhost:8080/"
        },
        "id": "yr7ropq-JEW6",
        "outputId": "bbedb25f-e0e5-47da-ff7c-43b1f7df0dad"
      },
      "execution_count": null,
      "outputs": [
        {
          "output_type": "stream",
          "name": "stdout",
          "text": [
            "Digite o valor do ângulo: 30\n",
            " \n",
            "O valor do seno é 0.50\n",
            "O valor do cosseno é 0.87 \n",
            "O valor da tangente é 0.58\n",
            "----------------------------------------\n"
          ]
        }
      ]
    },
    {
      "cell_type": "markdown",
      "source": [
        "Desafio 019 Sorteando um item da lista - Um professor quer sortear um dos seus quatro alunos para apagar o quadro. Faça um programa que ajude ele, lendo o nome dos alunos e escrevendo na tela o nome do escolhido."
      ],
      "metadata": {
        "id": "vV_KprclTSpc"
      }
    },
    {
      "cell_type": "code",
      "source": [
        "import random \n",
        "a1 = str (input('Digite o nome do primeiro aluno: '))\n",
        "a2 = str (input('Digite o nome do segundo aluno: '))\n",
        "a3 = str (input('Digite o nome do terceiro aluno: '))\n",
        "a4 = str (input('Digite o nome do quarto aluno: '))\n",
        "print(a1 , a2 , a3 , a4)\n",
        "lista = [a1, a2, a3, a4]\n",
        "print('-' * 20)\n",
        "print(f'o aluno sorteado para apagar o quadro é', random.choice(lista))\n",
        "\n",
        "\n",
        "''' random -> Gerar numeros pseudoaleatorios {\n",
        "\n",
        "      randint() > Retorna um numero inteiro no range --------------- random.randint(1, 10)\n",
        "\n",
        "      choice() --> Retorna um elemento aleatório da sequência - random.choice(x)\n",
        "\n",
        "      shuffle() > Embaralha a sequência x no lugar ------------------- random.shuffle(y)'''\n",
        "\n"
      ],
      "metadata": {
        "colab": {
          "base_uri": "https://localhost:8080/"
        },
        "id": "lFcy8UGaTYb_",
        "outputId": "1470b887-4e5b-45ab-a13c-fc3207d1caed"
      },
      "execution_count": null,
      "outputs": [
        {
          "output_type": "stream",
          "name": "stdout",
          "text": [
            "Digite o nome do primeiro aluno: André\n",
            "Digite o nome do segundo aluno: Luciana\n",
            "Digite o nome do terceiro aluno: Bento\n",
            "Digite o nome do quarto aluno: Isabela\n",
            "André Luciana Bento Isabela\n",
            "--------------------\n",
            "o aluno sorteado para apagar o quadro é Bento\n"
          ]
        }
      ]
    },
    {
      "cell_type": "markdown",
      "source": [
        "Desafio 020 Sorteando uma ordem na lista - O mesmo professor do desafio 019 quer sortear a ordem de apresentação de trabalhos dos alunos. Faça um programa que leia o nome dos quatro alunos e mostre a ordem sorteada."
      ],
      "metadata": {
        "id": "kHfVbA6caxyT"
      }
    },
    {
      "cell_type": "code",
      "source": [
        "import random\n",
        "a1 = str (input('Digite o nome do primeiro aluno: '))\n",
        "a2 = str (input('Digite o nome do segundo aluno: '))\n",
        "a3 = str (input('Digite o nome do terceiro aluno: '))\n",
        "a4 = str (input('Digite o nome do quarto aluno: '))\n",
        "lista = [a1, a2, a3, a4]\n",
        "random.shuffle(lista)\n",
        "print('-' * 20)\n",
        "print(f'A ordem de apresentação é', lista)\n"
      ],
      "metadata": {
        "colab": {
          "base_uri": "https://localhost:8080/"
        },
        "id": "XT7gnmata9VL",
        "outputId": "572ea342-31d4-42aa-e1cb-34e0d8850419"
      },
      "execution_count": null,
      "outputs": [
        {
          "output_type": "stream",
          "name": "stdout",
          "text": [
            "Digite o nome do primeiro aluno: André\n",
            "Digite o nome do segundo aluno: Luciana\n",
            "Digite o nome do terceiro aluno: Bento\n",
            "Digite o nome do quarto aluno: Isabela\n",
            "--------------------\n",
            "A ordem de apresentação é ['Isabela', 'André', 'Bento', 'Luciana']\n"
          ]
        }
      ]
    },
    {
      "cell_type": "markdown",
      "source": [
        "Desafio 021 Tocando um mp3 - Faça um programa em Python que abra e reproduza o áudio de um arquivo MP3.\n"
      ],
      "metadata": {
        "id": "SSln70Kpa-Er"
      }
    },
    {
      "cell_type": "code",
      "source": [
        ""
      ],
      "metadata": {
        "id": "jH3eCW_vbDEL"
      },
      "execution_count": null,
      "outputs": []
    },
    {
      "cell_type": "markdown",
      "source": [
        "Desafio 022 - Crie um programa que leia o nome completo de uma pessoa e mostre: - O nome com todas as letras maiúsculas e minúsculas. - Quantas letras ao todo (sem considerar espaços). - Quantas letras tem o primeiro nome.\n",
        "\n",
        "```\n",
        "\n",
        "```\n",
        "\n"
      ],
      "metadata": {
        "id": "193o8xIpS6cU"
      }
    },
    {
      "cell_type": "code",
      "source": [
        "nome = str (input('Digite seu nome completo: ')).strip()\n",
        "print(f'''\n",
        "o nome é {nome.upper()}\n",
        "O nome é {nome.lower()}\n",
        "A qtde de letras sem espaços é {len(nome) - nome.count(' ')}\n",
        "a qtde de letras do primeiro nome é {len(nome[0:5])}\n",
        "''')\n"
      ],
      "metadata": {
        "id": "1jet3P-cTADo",
        "colab": {
          "base_uri": "https://localhost:8080/"
        },
        "outputId": "d42b4eb7-2cf3-46db-9142-ca62280a545a"
      },
      "execution_count": null,
      "outputs": [
        {
          "output_type": "stream",
          "name": "stdout",
          "text": [
            "Digite seu nome completo: André Luiz Borges Almeida\n",
            "\n",
            "o nome é ANDRÉ LUIZ BORGES ALMEIDA\n",
            "O nome é andré luiz borges almeida\n",
            "A qtde de letras sem espaços é 22\n",
            "a qtde de letras do primeiro nome é 5\n",
            "\n"
          ]
        }
      ]
    },
    {
      "cell_type": "markdown",
      "source": [
        "Desafio 023 - Faça um programa que leia um número de 0 a 9999 e mostre na tela cada um dos dígitos separados."
      ],
      "metadata": {
        "id": "iD5EkB70HG1I"
      }
    },
    {
      "cell_type": "code",
      "source": [
        "num = int (input('Digite um número entre 0 e 9999: '))\n",
        "u = num // 1 % 10\n",
        "d = num // 10 % 10\n",
        "c = num // 100 % 10\n",
        "m = num // 1000 % 10\n",
        "\n",
        "print(f'o número é',  num)\n",
        "print(f'a unidade é', u)\n",
        "print(f'a centena é', d)\n",
        "print(f'a centena é', c)\n",
        "print(f'a milhar  é', m)\n"
      ],
      "metadata": {
        "id": "fffwGqkRHN-G",
        "colab": {
          "base_uri": "https://localhost:8080/"
        },
        "outputId": "a159988b-055a-4908-8072-263bdf32a7ad"
      },
      "execution_count": null,
      "outputs": [
        {
          "output_type": "stream",
          "name": "stdout",
          "text": [
            "Digite um número entre 0 e 9999: 256\n",
            "o número é 256\n",
            "a unidade é 6\n",
            "a centena é 5\n",
            "a centena é 2\n",
            "a milhar  é 0\n"
          ]
        }
      ]
    },
    {
      "cell_type": "markdown",
      "source": [
        "Desafio 024 - Crie um programa que leia o nome de uma cidade diga se ela começa ou não com o nome \"SANTO\"."
      ],
      "metadata": {
        "id": "9x57vRDFHOav"
      }
    },
    {
      "cell_type": "code",
      "source": [
        "c = str (input('Informe o nome da cidade: ')).strip()\n",
        "print(c[:5].upper() == 'SANTO')\n",
        "print('SANTO' in c.upper())\n"
      ],
      "metadata": {
        "id": "Nem9SNu5HXYc",
        "colab": {
          "base_uri": "https://localhost:8080/"
        },
        "outputId": "e326bedd-2b4c-47cc-fa52-d83b8499ceff"
      },
      "execution_count": null,
      "outputs": [
        {
          "output_type": "stream",
          "name": "stdout",
          "text": [
            "Informe o nome da cidade: SaNto Amaro\n",
            "True\n",
            "True\n"
          ]
        }
      ]
    },
    {
      "cell_type": "markdown",
      "source": [
        "Desafio 025 - Crie um programa que leia o nome de uma pessoa e diga se ela tem \"SILVA\" no nome."
      ],
      "metadata": {
        "id": "CQN4htUBHXtW"
      }
    },
    {
      "cell_type": "code",
      "source": [
        "n = str (input('Informe seu nome: ')).strip()\n",
        "print(f'SILVA' in n.upper())           \n",
        "         "
      ],
      "metadata": {
        "id": "BADvw-g3HefO",
        "colab": {
          "base_uri": "https://localhost:8080/"
        },
        "outputId": "3ba6b800-4fe5-4dd4-97d4-55aaf63b37ff"
      },
      "execution_count": null,
      "outputs": [
        {
          "output_type": "stream",
          "name": "stdout",
          "text": [
            "Informe seu nome: SiLva Moura\n",
            "True\n"
          ]
        }
      ]
    },
    {
      "cell_type": "markdown",
      "source": [
        "Desafio 026 - Faça um programa que leia uma frase pelo teclado e mostre quantas vezes aparece a letra \"A\", em que posição ela aparece a primeira vez e em que posição ela aparece a última vez."
      ],
      "metadata": {
        "id": "egV1bDDMHfIu"
      }
    },
    {
      "cell_type": "code",
      "source": [
        "frase = str (input(' Digite uma frase: ')).upper().strip()\n",
        "print(frase.count('A'))\n",
        "print(frase.find('A'))\n",
        "print(frase.rfind('A'))\n"
      ],
      "metadata": {
        "id": "VglNwQGSJIWt",
        "colab": {
          "base_uri": "https://localhost:8080/"
        },
        "outputId": "85859deb-1f84-4a23-f316-9a0fd9805614"
      },
      "execution_count": null,
      "outputs": [
        {
          "output_type": "stream",
          "name": "stdout",
          "text": [
            " Digite uma frase: Estou aprendendo a usAr Python\n",
            "3\n",
            "6\n",
            "21\n"
          ]
        }
      ]
    },
    {
      "cell_type": "markdown",
      "source": [
        "Desafio 027 - Faça um programa que leia o nome completo de uma pessoa, mostrando em seguida o primeiro e o último nome separadamente."
      ],
      "metadata": {
        "id": "G19wCodGHjfF"
      }
    },
    {
      "cell_type": "code",
      "source": [
        "nome = str (input('informe seu nome completo: ')).strip()\n",
        "dividido = nome.split()\n",
        "print(dividido[0])\n",
        "print(dividido[len(dividido)- 1])\n"
      ],
      "metadata": {
        "id": "4c-niUbhHjLs",
        "colab": {
          "base_uri": "https://localhost:8080/"
        },
        "outputId": "e2c57344-19ec-41d2-b920-695368ea9bef"
      },
      "execution_count": null,
      "outputs": [
        {
          "output_type": "stream",
          "name": "stdout",
          "text": [
            "informe seu nome completo: jardim agustos primeiros dos santos\n",
            "jardim\n",
            "santos\n"
          ]
        }
      ]
    },
    {
      "cell_type": "markdown",
      "source": [
        "Desafio 028 - Escreva um programa que faça o computador \"pensar\" em um número inteiro entre 0 e 5 e peça para o usuário tentar descobrir qual foi o número escolhido pelo computador. O programa deverá escrever na tela se o usuário venceu ou perdeu.\n",
        "Jogo da Adivinhação v.1.0"
      ],
      "metadata": {
        "id": "89VUnBzzeHOq"
      }
    },
    {
      "cell_type": "code",
      "source": [
        "import random\n",
        "lista = (0 , 1 , 2 , 3 , 4 , 5)\n",
        "sorteio = random.randint(0 , 5) # Faz o computador sortear o número\n",
        "num = int (input('Digite um número entre 0 e 5: '))\n",
        "if num == sorteio:\n",
        "  print('Parabéns você acertou')\n",
        "else:\n",
        "  print('Você errou! Tente novamente')\n",
        "  "
      ],
      "metadata": {
        "id": "f0uDoW4QecXF",
        "colab": {
          "base_uri": "https://localhost:8080/"
        },
        "outputId": "a8253f8d-d119-413d-f3b8-77010459d252"
      },
      "execution_count": null,
      "outputs": [
        {
          "output_type": "stream",
          "name": "stdout",
          "text": [
            "Digite um número entre 0 e 5: 2\n",
            "Parabéns você acertou\n"
          ]
        }
      ]
    },
    {
      "cell_type": "code",
      "source": [
        "from random import randint\n",
        "from time import sleep\n",
        "computador = randint(0, 5)\n",
        "print('-=-' *20)\n",
        "print('Vou pensar em um número entre 0 e 5! Tente advinhar...')\n",
        "print('-=-' *20)\n",
        "jogador = int (input('Em que número pensei: '))\n",
        "print('PROCESSANDO...')\n",
        "sleep(2)\n",
        "if jogador == computador:\n",
        "  print('Parabéns você me venceu!')\n",
        "else:\n",
        "  print(f'''Ganhei!, pensei no número {computador}\n",
        "e não no {jogador}''')\n"
      ],
      "metadata": {
        "colab": {
          "base_uri": "https://localhost:8080/"
        },
        "id": "VmG1Dx0aw_Vn",
        "outputId": "9c3b6007-0adf-4697-a66d-e83d26922a67"
      },
      "execution_count": null,
      "outputs": [
        {
          "output_type": "stream",
          "name": "stdout",
          "text": [
            "-=--=--=--=--=--=--=--=--=--=--=--=--=--=--=--=--=--=--=--=-\n",
            "Vou pensar em um número entre 0 e 5! Tente advinhar...\n",
            "-=--=--=--=--=--=--=--=--=--=--=--=--=--=--=--=--=--=--=--=-\n",
            "Em que número pensei: 5\n",
            "PROCESSANDO...\n",
            "Ganhei!, pensei no número 1\n",
            "e não no 5\n"
          ]
        }
      ]
    },
    {
      "cell_type": "markdown",
      "source": [
        "Desafio 029 - Escreva um programa que leia a velocidade de um carro. Se ele ultrapassar 80Km/h, mostre uma mensagem dizendo que ele foi multado. A multa vai custar R$7,00 por cada Km acima do limite. Radar Eletrônico."
      ],
      "metadata": {
        "id": "iG9Ex-2D0Tot"
      }
    },
    {
      "cell_type": "code",
      "source": [
        "vel = float (input('Informe a velocidade em km/h: '))\n",
        "\n",
        "if vel > 80:\n",
        "  multa = (vel - 80) * 7\n",
        "  print('Você foi multado! E valor da multa é R$', multa)\n",
        "else:\n",
        "  print('Velocidade permitida, tenha um bom dia!')\n"
      ],
      "metadata": {
        "colab": {
          "base_uri": "https://localhost:8080/"
        },
        "id": "-hpN2LNW0YP-",
        "outputId": "093df114-920f-4069-ddfd-676644f40101"
      },
      "execution_count": null,
      "outputs": [
        {
          "output_type": "stream",
          "name": "stdout",
          "text": [
            "Informe a velocidade em km/h: 75\n",
            "Velocidade permitida, tenha um bom dia!\n"
          ]
        }
      ]
    },
    {
      "cell_type": "markdown",
      "source": [
        "Desafio 030 - Crie um programa que leia um número inteiro e mostre na tela se ele é PAR ou ÍMPAR. Par ou Ímpar?\n"
      ],
      "metadata": {
        "id": "DiFKXC9B24U_"
      }
    },
    {
      "cell_type": "code",
      "source": [
        "num = int (input('Digite um número:'))\n",
        "if num % 2 == 0:\n",
        "  print('Esse número é par!')\n",
        "else:\n",
        "  num % 2 == 1\n",
        "  print('Esse número é ímpar')\n",
        "  "
      ],
      "metadata": {
        "colab": {
          "base_uri": "https://localhost:8080/"
        },
        "id": "xNd0Qmxi4dfj",
        "outputId": "bd07389c-a14f-4967-8edb-d86761f80f3e"
      },
      "execution_count": null,
      "outputs": [
        {
          "output_type": "stream",
          "name": "stdout",
          "text": [
            "Digite um número:10\n",
            "Esse número é par!\n"
          ]
        }
      ]
    },
    {
      "cell_type": "markdown",
      "source": [
        "Desafio 031 -  Desenvolva um programa que pergunte a distância de uma viagem em Km. Calcule o preço da passagem, cobrando R$0,50  por Km para viagens de até 200Km e R$0,45 parta viagens mais longas. Custo da Viagem."
      ],
      "metadata": {
        "id": "mKngUjCY6Q5n"
      }
    },
    {
      "cell_type": "code",
      "source": [
        "dist = float (input('Informe a distância em km:'))\n",
        "if dist <= 200:\n",
        "  passagem = dist * 0.50\n",
        "  print('O valor da passagem é de R${:.2f}'.format(passagem))\n",
        "else:\n",
        "  dist > 200\n",
        "  passagem = dist * 0.45\n",
        "  print('O valor da passagem é de R${:.2f}'.format(passagem))\n"
      ],
      "metadata": {
        "colab": {
          "base_uri": "https://localhost:8080/"
        },
        "id": "mrOrRIS37MCR",
        "outputId": "3aff2cba-8f99-4a63-cb26-e133f36527c5"
      },
      "execution_count": null,
      "outputs": [
        {
          "output_type": "stream",
          "name": "stdout",
          "text": [
            "Informe a distância em km: 500\n",
            "O valor da passagem é de R$225.00\n"
          ]
        }
      ]
    },
    {
      "cell_type": "markdown",
      "source": [
        "Desafio 032 - Faça um programa que leia um ano qualquer e mostre se ele é bissexto. Ano Bissexto.\n",
        " "
      ],
      "metadata": {
        "id": "SyW1g-EN-MRP"
      }
    },
    {
      "cell_type": "code",
      "source": [
        "from datetime import date\n",
        "ano = int (input('Que ano quer analisar? Coloque 0 para analisar o ano atual'))\n",
        "if ano == 0:\n",
        "  ano = date.today().year\n",
        "if ano % 4 == 0 and ano % 100 != 0 or ano % 400 == 0:\n",
        "  print('O ano de {} é bissexto'.format(ano))\n",
        "else:\n",
        "  print('O ano de {} não é bissexto'.format(ano))\n"
      ],
      "metadata": {
        "colab": {
          "base_uri": "https://localhost:8080/"
        },
        "id": "OZogsm7R9SN8",
        "outputId": "84b34c4b-993e-4132-87f7-85918941fd02"
      },
      "execution_count": null,
      "outputs": [
        {
          "output_type": "stream",
          "name": "stdout",
          "text": [
            "Que ano quer analisar? Coloque 0 para analisar o ano atual 0\n",
            "O ano de 2022 não é bissexto\n"
          ]
        }
      ]
    },
    {
      "cell_type": "markdown",
      "source": [
        "Desafio 033 - Faça um programa que leia três números e mostre qual é o maior e qual é o menor. Maior e menor valores"
      ],
      "metadata": {
        "id": "s0WFsPQ8Xej9"
      }
    },
    {
      "cell_type": "code",
      "source": [
        "num1 = float (input('Digite o primeiro número' ))\n",
        "num2 = float (input('Digite o segundo número' ))\n",
        "num3 = float (input('Digite o terceiro número' ))\n",
        "lista = [num1, num2, num3]\n",
        "lista_ordenada = sorted(lista)\n",
        "print(f'''\n",
        "O menor número é  {lista_ordenada[0]}\n",
        "O maior número é  {lista_ordenada[2]} \n",
        "''')\n"
      ],
      "metadata": {
        "colab": {
          "base_uri": "https://localhost:8080/"
        },
        "id": "vN3hyXTjXmZC",
        "outputId": "66b48ea4-0088-4948-a9e9-0e0d558e0e06"
      },
      "execution_count": null,
      "outputs": [
        {
          "output_type": "stream",
          "name": "stdout",
          "text": [
            "Digite o primeiro número15\n",
            "Digite o segundo número36\n",
            "Digite o terceiro número25\n",
            "\n",
            "O menor número é  15.0\n",
            "O maior número é  36.0 \n",
            "\n"
          ]
        }
      ]
    },
    {
      "cell_type": "markdown",
      "source": [
        "Desafio 034 - Escreva um programa que pergunte o salário de um funcionário e calcule o valor do seu aumento. Para salários superiores a R$1250,00, calcule um aumento de 10%. Para os inferiores ou iguais, o aumento é de 15%. Aumentos múltiplos"
      ],
      "metadata": {
        "id": "X0GKK-RtZzmG"
      }
    },
    {
      "cell_type": "code",
      "source": [
        "salario = float (input('Informe o salário em R$'))\n",
        "if salario > 1250:\n",
        "  s_novo = salario * 1.10\n",
        "  print('O seu novo salário é R${:.2f}'.format(s_novo))\n",
        "elif salario <= 1250:\n",
        "  s_novo = salario * 1.15\n",
        "  print('Seu novo salário é R${:.2f}'.format(s_novo))\n"
      ],
      "metadata": {
        "colab": {
          "base_uri": "https://localhost:8080/"
        },
        "id": "OiQvsv1PZzyF",
        "outputId": "f6447bdb-ce8b-47e3-81cd-4127645cdb5f"
      },
      "execution_count": null,
      "outputs": [
        {
          "output_type": "stream",
          "name": "stdout",
          "text": [
            "Informe o salário em R$1500.50\n",
            "O seu novo salário é R$1650.55\n"
          ]
        }
      ]
    },
    {
      "cell_type": "markdown",
      "source": [
        "Desafio 035 -  Desenvolva um programa que leia o comprimento de três retas e diga ao usuário se elas podem ou não formar um triângulo. Analisando Triângulo v1.0"
      ],
      "metadata": {
        "id": "Zx2kuRMqbtt0"
      }
    },
    {
      "cell_type": "code",
      "source": [
        "a = float (input('Informe o comprimento de reta: '))\n",
        "b = float (input('Informe o comprimento de reta: '))\n",
        "c = float (input('Informe o comprimento de reta: '))\n",
        "\n",
        "if a > (b - c) and a < (b + c) and b > (a - c) and b < (a + c) and c > (a - b) and c < (a + b):\n",
        "  print('É possível ser construir um triângulo com essas medidas')\n",
        "else:\n",
        "  print('Não é possível construir um triângulo com essas medidas')\n"
      ],
      "metadata": {
        "colab": {
          "base_uri": "https://localhost:8080/"
        },
        "id": "WVh8pEBubuWk",
        "outputId": "9c215327-c988-4eb0-91a8-57c3676d03cc"
      },
      "execution_count": null,
      "outputs": [
        {
          "output_type": "stream",
          "name": "stdout",
          "text": [
            "Informe o comprimento de reta: 2\n",
            "Informe o comprimento de reta: 4\n",
            "Informe o comprimento de reta: 1\n",
            "Não é possível construir um triângulo com essas medidas\n"
          ]
        }
      ]
    },
    {
      "cell_type": "markdown",
      "source": [
        "Desafio - 036 Escreva um programa para aprovar o empréstimo bancário para a compra de uma casa. Pergunte o valor da casa, o salário do comprador e em quantos anos ele vai pagar. A prestação mensal não pode exceder 30% do salário ou então o empréstimo será negado. Aprovando Empréstimo\n"
      ],
      "metadata": {
        "id": "J141N_mllroT"
      }
    },
    {
      "cell_type": "code",
      "source": [
        "valor_casa = float (input('Valor da casa: R$'))\n",
        "salario_comprador = float (input('Valor do salário do comprador: R$'))\n",
        "financiamento = int (input('Em quantos anos pretende pagar?'))\n",
        "prestacao = (valor_casa / (financiamento * 12))\n",
        "endividamento = (prestacao / salario_comprador) * 100\n",
        "if endividamento < 30:\n",
        "  print(f'''\n",
        "  O valor da prestação é de R$ {prestacao:.2f}\n",
        "  E o empréstimo será concedido!''')\n",
        "else:\n",
        "  print(f'Empréstimo NEGADO! Sem margem!')\n"
      ],
      "metadata": {
        "id": "8UuA5TE7l2_3",
        "colab": {
          "base_uri": "https://localhost:8080/"
        },
        "outputId": "028caeff-163e-4d70-8bc4-0416958f34b6"
      },
      "execution_count": null,
      "outputs": [
        {
          "output_type": "stream",
          "name": "stdout",
          "text": [
            "Valor da casa R$80000\n",
            "Valor do salário do comprador R$10000\n",
            "Em quantos anos pretende pagar?7\n",
            "\n",
            "  O valor da prestação é de R$ 952.38\n",
            "  E o empréstimo será concedido!\n"
          ]
        }
      ]
    },
    {
      "cell_type": "markdown",
      "source": [
        "Desafio - 037  Escreva um programa em Python que leia um número inteiro qualquer e peça para o usuário escolher qual será a base de conversão: 1 para binário, 2 para octal e 3 para hexadecimal. Conversor de Bases Numéricas"
      ],
      "metadata": {
        "id": "Uv6dfQqIGCwh"
      }
    },
    {
      "cell_type": "code",
      "source": [
        "num = int (input('Digite um número inteiro: '))\n",
        "print(''' Escolha a base para conversão:\n",
        "[ 1 ] converter para BINÁRIO\n",
        "[ 2 ] converter para OCTAL\n",
        "[ 3 ] converter para HEXADECIMAL''')\n",
        "opção = int (input('Digite sua opção: '))\n",
        "if opção == 1:\n",
        "  print(f'O número {num} convertido para Binário é {bin(num)[2:]}')\n",
        "elif opção == 2:\n",
        "  print(f'O número {num} convertido para OCTAL é {oct(num)[2:]}')\n",
        "elif opção == 3:\n",
        "  print(f'O número {num} convertido para HEXADECIMAL é {hex(num)[2:]}')\n",
        "else:\n",
        "  print('Opção inválida! Tente novamente')\n"
      ],
      "metadata": {
        "colab": {
          "base_uri": "https://localhost:8080/"
        },
        "id": "evM_R-b9GIoY",
        "outputId": "1e45c9f3-22fd-491f-904f-ccf32c202765"
      },
      "execution_count": null,
      "outputs": [
        {
          "output_type": "stream",
          "name": "stdout",
          "text": [
            "Digite um número inteiro: 320\n",
            " Escolha a base para conversão:\n",
            "[ 1 ] converter para BINÁRIO\n",
            "[ 2 ] converter para OCTAL\n",
            "[ 3 ] converter para HEXADECIMAL\n",
            "Digite sua opção: 3\n",
            "O número 320 convertido para HEXADECIMAL é 140\n"
          ]
        }
      ]
    },
    {
      "cell_type": "markdown",
      "source": [
        "Desafio - 038 Escreva um programa que leia dois números inteiros e compare-os. mostrando na tela uma mensagem: \n",
        "- O primeiro valor é maior \n",
        "- O segundo valor é maior\n",
        "- Não existe valor maior, os dois são iguais\n",
        " (Comparando números)\n"
      ],
      "metadata": {
        "id": "YAoQmvO8J3-4"
      }
    },
    {
      "cell_type": "code",
      "source": [
        "n1 = int (input('Informe um número: '))\n",
        "n2 = int (input('Informe um outro número: '))\n",
        "if n1 > n2:\n",
        "  print(f' O primeiro valor {n1} é maior que {n2}')\n",
        "elif n2 > n1:\n",
        "  print(f'O segundo valor {n2} é maior que {n1}')\n",
        "elif n1 == n2:\n",
        "  print('Não existe valor maior, os dois são iguais')\n"
      ],
      "metadata": {
        "colab": {
          "base_uri": "https://localhost:8080/"
        },
        "id": "yXHkqdRIKQcx",
        "outputId": "e7da0f5f-8432-4536-d372-6f382e8d4db5"
      },
      "execution_count": null,
      "outputs": [
        {
          "output_type": "stream",
          "name": "stdout",
          "text": [
            "Informe um número: 7\n",
            "Informe um outro número: 7\n",
            "Não existe valor maior, os dois são iguais\n"
          ]
        }
      ]
    },
    {
      "cell_type": "markdown",
      "source": [
        "Desafio - 039  Faça um programa que leia o ano de nascimento de um jovem e informe, de acordo com a sua idade, se ele ainda vai se alistar ao serviço militar, se é a hora exata de se alistar ou se já passou do tempo do alistamento. Seu programa também deverá mostrar o tempo que falta ou que passou do prazo.  Alistamento Militar"
      ],
      "metadata": {
        "id": "VGTJdYkoMTdK"
      }
    },
    {
      "cell_type": "code",
      "source": [
        "ano_nascimento = int (input('Informe seu ano de nascimento: '))\n",
        "if ano_nascimento == 2004:\n",
        "  print(f'''Quem nasceu em {ano_nascimento} tem 18 anos em 2022\n",
        "  e seu alistamento é obrigatório''')\n",
        "elif ano_nascimento > 2004:\n",
        "  print(f'''Quem nasceu em {ano_nascimento} tem {2022 - ano_nascimento} em 2022\n",
        "  e ainda falta(m) {ano_nascimento - 2004} ano(s) para se alistar''')\n",
        "else:\n",
        "  print(f'''Quem nasceu em {ano_nascimento} tem {2022 - ano_nascimento} em 2022\n",
        "  e seu alistimento deveria ter sido em {ano_nascimento + 18}''' )\n"
      ],
      "metadata": {
        "colab": {
          "base_uri": "https://localhost:8080/"
        },
        "id": "9nZkb1ypNFaj",
        "outputId": "c8335571-aba4-4202-da37-499ba647b7d2"
      },
      "execution_count": null,
      "outputs": [
        {
          "output_type": "stream",
          "name": "stdout",
          "text": [
            "Informe seu ano de nascimento: 2021\n",
            "Quem nasceu em 2021 tem 1 em 2022\n",
            "  e ainda falta(m) 17 ano(s) para se alistar\n"
          ]
        }
      ]
    },
    {
      "cell_type": "code",
      "source": [
        "from datetime import date\n",
        "atual = date.today().year\n",
        "nasc = int (input('Informe seu ano de nascimento: '))\n",
        "idade = atual - nasc\n",
        "print(f'Quem nasceu em {nasc} tem {idade} anos em {atual}')\n",
        "if idade == 18:\n",
        "  print(f'Seu alistamento é obrigatório')\n",
        "elif idade < 18:\n",
        "  print(f'E ainda falta(m) {18 - idade} ano(s) para se alistar')\n",
        "else:\n",
        "  print(f'E seu alistamento deveria ter sido em {nasc + 18}')\n"
      ],
      "metadata": {
        "colab": {
          "base_uri": "https://localhost:8080/"
        },
        "id": "_IqnPwWrX1bf",
        "outputId": "f61de563-48ed-40c2-e58d-527a01f3b1d4"
      },
      "execution_count": null,
      "outputs": [
        {
          "output_type": "stream",
          "name": "stdout",
          "text": [
            "Informe seu ano de nascimento: 1981\n",
            "Quem nasceu em 1981 tem 41 anos em 2022\n",
            "E seu alistamento deveria ter sido em 1999\n"
          ]
        }
      ]
    },
    {
      "cell_type": "markdown",
      "source": [
        "Desafio - 040  Crie um programa que leia duas notas de um aluno e calcule sua média, mostrando uma mensagem no final, de acordo com a média atingida:\n",
        "- Média abaixo de 5.0: REPROVADO\n",
        "- Média entre 5.0 e 6.9: RECUPERAÇÃO\n",
        "- Média 7.0 ou superior: APROVADO\n",
        "\n",
        "Aquele clássico da Média"
      ],
      "metadata": {
        "id": "hbp0AC49c87J"
      }
    },
    {
      "cell_type": "code",
      "source": [
        "n1 = float (input('Informe a primeira nota: '))\n",
        "n2 = float (input('Informe a segunda nota: '))\n",
        "media = (n1 + n2) / 2\n",
        "print(f'Sua média foi {media:.2f}')\n",
        "if media < 5.0:\n",
        "  print('REPROVADO')\n",
        "elif 5.0 < media < 6.9:\n",
        "  print('RECUPERAÇÃO')\n",
        "else:\n",
        "  print('APROVADO')\n"
      ],
      "metadata": {
        "colab": {
          "base_uri": "https://localhost:8080/"
        },
        "id": "sW6xvx2AdNPG",
        "outputId": "49cf8dd2-e47b-4bf9-b663-b43453cf5270"
      },
      "execution_count": null,
      "outputs": [
        {
          "output_type": "stream",
          "name": "stdout",
          "text": [
            "Informe a primeira nota: 2.5\n",
            "Informe a segunda nota: 3.75\n",
            "Sua média foi 3.12\n",
            "REPROVADO\n"
          ]
        }
      ]
    },
    {
      "cell_type": "markdown",
      "source": [
        "Desafio - 041 : A Confederação Nacional de Natação precisa de um programa que leia o ano de nascimento de um atleta e mostre sua categoria, de acordo com a idade:\n",
        "- Até 9 anos: MIRIM\n",
        "- Até 14 anos: INFANTIL\n",
        "- Até 19 anos: JÚNIOR\n",
        "- Até 25 anos: SÊNIOR\n",
        "- Acima de 25 anos: MASTER\n",
        "\n",
        "Classificando Atletas"
      ],
      "metadata": {
        "id": "FS6VmtxGe4Aw"
      }
    },
    {
      "cell_type": "code",
      "source": [
        "from datetime import date\n",
        "nasc = int (input('Informe o ano de seu nascimento: '))\n",
        "idade = date.today().year - nasc\n",
        "print(f'Sua idade é {idade} anos e sua categoria de acordo com sua idade é')\n",
        "if idade <= 9:\n",
        "  print('MIRIM')\n",
        "elif 9 < idade <= 14:\n",
        "  print('INFANTIL')\n",
        "elif 14 < idade <= 19:\n",
        "  print('JÚNIOR')\n",
        "elif 19 < idade <= 25:\n",
        "  print('SÊNIOR')\n",
        "else:\n",
        "  print('MASTER')\n",
        "  "
      ],
      "metadata": {
        "colab": {
          "base_uri": "https://localhost:8080/"
        },
        "id": "c7wuEcARfDo3",
        "outputId": "2a10764b-6516-45b5-8a70-22fde69d70cd"
      },
      "execution_count": null,
      "outputs": [
        {
          "output_type": "stream",
          "name": "stdout",
          "text": [
            "Informe o ano de seu nascimento: 1981\n",
            "Sua idade é 41 anos e sua categoria de acordo com sua idade é\n",
            "MASTER\n"
          ]
        }
      ]
    },
    {
      "cell_type": "markdown",
      "source": [
        "Desafio 042 -  Refaça o DESAFIO 035 dos triângulos, acrescentando o recurso de mostrar que tipo de triângulo será formado:\n",
        "- EQUILÁTERO: todos os lados iguais\n",
        "- ISÓSCELES: dois lados iguais, um diferente\n",
        "- ESCALENO: todos os lados diferentes\n",
        "\n",
        "Analisando Triângulos v2.0"
      ],
      "metadata": {
        "id": "neidcg79ip-g"
      }
    },
    {
      "cell_type": "code",
      "source": [
        "a = float (input('Informe o comprimento de reta: '))\n",
        "b = float (input('Informe o comprimento de reta: '))\n",
        "c = float (input('Informe o comprimento de reta: '))\n",
        "if a > (b - c) and a < (b + c) and b > (a - c) and b < (a + c) and c > (a - b) and c < (a + b):\n",
        "  print('É possível ser construir um triângulo com essas medidas e', end='')\n",
        "  if a == b == c:\n",
        "    print('Esse triângulo é Equilátero')\n",
        "  elif a != b and b != c and a != c:\n",
        "    print('Esse triângulo é Escaleno')\n",
        "  else:\n",
        "    print('Esse triângulo é Isósceles')\n",
        "else:\n",
        "  print('Não é possível construir um triângulo com essas medidas')\n",
        "  "
      ],
      "metadata": {
        "colab": {
          "base_uri": "https://localhost:8080/"
        },
        "id": "jQvvGhFYiw2m",
        "outputId": "396fc538-5605-40dd-ea1d-b918c4dc404f"
      },
      "execution_count": null,
      "outputs": [
        {
          "output_type": "stream",
          "name": "stdout",
          "text": [
            "Informe o comprimento de reta: 4\n",
            "Informe o comprimento de reta: 3\n",
            "Informe o comprimento de reta: 4\n",
            "É possível ser construir um triângulo com essas medidas eEsse triângulo é Isósceles\n"
          ]
        }
      ]
    },
    {
      "cell_type": "markdown",
      "source": [
        "Desafio - 043 Desenvolva uma lógica que leia o peso e a altura de uma pessoa, calcule seu Índice de Massa Corporal (IMC) e mostre seu status, de acordo com a tabela abaixo:\n",
        "- IMC abaixo de 18,5: Abaixo do Peso\n",
        "- Entre 18,5 e 25: Peso Ideal\n",
        "- 25 até 30: Sobrepeso\n",
        "- 30 até 40: Obesidade\n",
        "- Acima de 40: Obesidade Mórbida\n",
        "\n",
        " Índice de Massa Corporal"
      ],
      "metadata": {
        "id": "Zma4F56loyMA"
      }
    },
    {
      "cell_type": "code",
      "source": [
        "p = float (input('Digite seu peso: kg '))\n",
        "h = float (input('Digite sua altura: m '))\n",
        "imc = p / (h**2)\n",
        "print(f'O seu IMC é de {imc:.1f}', end='')\n",
        "if imc < 18.5:\n",
        "  print(' E o seu status é Abaixo do peso')\n",
        "elif imc < 25:\n",
        "  print(' E o seu status é Peso Ideal')\n",
        "elif imc < 30:\n",
        "  print(' E o seu status é Sobrepeso')\n",
        "elif imc < 40:\n",
        "  print(' E o seu status é Obesidade')\n",
        "else:\n",
        "  print(' E o seu  status é Obesidade Mórbida')\n"
      ],
      "metadata": {
        "colab": {
          "base_uri": "https://localhost:8080/"
        },
        "id": "xdxYMp2Jo4dm",
        "outputId": "219cbf44-7f16-44bb-abe1-c487395e676a"
      },
      "execution_count": null,
      "outputs": [
        {
          "output_type": "stream",
          "name": "stdout",
          "text": [
            "Digite seu peso: kg 45\n",
            "Digite sua altura: m 1.55\n",
            "O seu IMC é de 18.7 E o seu status é Peso Ideal\n"
          ]
        }
      ]
    },
    {
      "cell_type": "markdown",
      "source": [
        "Desafio 044 - Elabore um programa que calcule o valor a ser pago por um produto, considerando o seu preço normal e condição de pagamento:\n",
        "- à vista dinheiro/cheque: 10% de desconto\n",
        "- à vista no cartão: 5% de desconto\n",
        "- em até 2x no cartão: preço formal\n",
        "- 3x ou mais no cartão: 20% de juros\n",
        "\n",
        "Gerenciador de Pagamentos"
      ],
      "metadata": {
        "id": "t3G0ejmj9QBI"
      }
    },
    {
      "cell_type": "code",
      "source": [
        "preço = float (input('Informe o preço: R$ '))\n",
        "print(f''' Formas de pagamentos\n",
        "[ 1 ] à vista dinheiro/cheque\n",
        "[ 2 ] à vista no cartão\n",
        "[ 3 ] em até 2x no cartão\n",
        "[ 4 ] 3x ou mais no cartão''')\n",
        "opção = int (input('Informe sua opção de pagamento: '))\n",
        "if opção == 1:\n",
        "  print(f'O valor da compra é R$ {preço:.2f}, mas para pagamento à vista o valor fica em R$ {preço * 0.90:.2f}')\n",
        "elif opção == 2:\n",
        "  print(f'O valor da compra é R$ {preço:.2f}, mas para pagamento à vista no cartão fica em R$ {preço * 0.95:.2f}')\n",
        "elif opção == 3:\n",
        "  parcela = preço / 2\n",
        "  print(f'O valor da sua parcela é R$ {parcela:.2f} em duas vezes')\n",
        "  print(f'O valor da compra é R$ {preço:.2f}, dividido em 2x no cartão')\n",
        "elif opção == 4:\n",
        "  qtde_parcela = int (input('Informe o número de parcelas: '))\n",
        "  parcela = (preço * 1.20) / qtde_parcela\n",
        "  print(f'O valor de sua parcela é R$ {parcela:.2f} dividido em {qtde_parcela} parcelas')\n",
        "  print(f'O valor da compra é R$ {preço:.2f}, mas para pagamento no cartão acima de 3x ou mais o valor fica em R$ {preço * 1.20:.2f}')\n",
        "else:\n",
        "  print('Opção Inválida! Tente novamente.')\n"
      ],
      "metadata": {
        "colab": {
          "base_uri": "https://localhost:8080/"
        },
        "id": "YIV3UmK79bKt",
        "outputId": "1ea32e66-81df-4cbe-b3a2-c9cb44ff338c"
      },
      "execution_count": null,
      "outputs": [
        {
          "output_type": "stream",
          "name": "stdout",
          "text": [
            "Informe o preço: R$ 1000\n",
            " Formas de pagamentos\n",
            "[ 1 ] à vista dinheiro/cheque\n",
            "[ 2 ] à vista no cartão\n",
            "[ 3 ] em até 2x no cartão\n",
            "[ 4 ] 3x ou mais no cartão\n",
            "Informe sua opção de pagamento: 4\n",
            "Informe o número de parcelas: 10\n",
            "O valor de sua parcela é R$ 120.00 dividido em 10 parcelas\n",
            "O valor da compra é R$ 1000.00, mas para pagamento no cartão acima de 3x ou mais o valor fica em R$ 1200.00\n"
          ]
        }
      ]
    },
    {
      "cell_type": "markdown",
      "source": [
        "Desafio 045 - Crie um programa que faça o computador jogar Jokenpô com você.  GAME: Pedra Papel e Tesoura"
      ],
      "metadata": {
        "id": "ApWE2hG_JP_V"
      }
    },
    {
      "cell_type": "code",
      "source": [
        "from random import randint\n",
        "from time import sleep\n",
        "itens= ('PEDRA', 'PAPEL', 'TESOURA')\n",
        "print('=+=' * 20)\n",
        "print('Vamos jogar Jokenpô:')\n",
        "print(f'''Suas opções: \n",
        "[ 0 ] PEDRA\n",
        "[ 1 ] PAPEL\n",
        "[ 2 ] TESOURA''')\n",
        "computador = randint(0, 2)\n",
        "jogador = int (input('Sua jogada é: '))\n",
        "print('=+=' * 20)\n",
        "print('JO')\n",
        "sleep(1)\n",
        "print('KEN')\n",
        "sleep(1)\n",
        "print('PÔ!!!!')\n",
        "if jogador != 0 and jogador != 1 and jogador !=2:\n",
        "    print('JOGADA INVALIDA \\nJogue novamente')\n",
        "else:\n",
        "   print(f'''O Computador jogou {itens[computador]} \n",
        "O jogador jogou {itens[jogador]}''') \n",
        "print('=+=' * 20)\n",
        "if computador == 0: # o computador jogou pedra\n",
        "  if jogador == 1:\n",
        "    print('Jogador Vence!')\n",
        "  elif jogador == 2:\n",
        "     print('Computador Vence!')\n",
        "  elif jogador == 0:\n",
        "     print('Empate!')\n",
        "if computador == 1: # o computador jogou papel\n",
        "  if jogador == 1:\n",
        "    print('Empate')\n",
        "  elif jogador == 0:\n",
        "    print('Computador Vence!')\n",
        "  elif jogador == 2:\n",
        "    print('Jogador Vence!')\n",
        "if computador == 2: # o computador jogou tesoura\n",
        "  if jogador == 2:\n",
        "    print('Empate')\n",
        "  elif jogador == 0:\n",
        "    print('Jogador Vence!')\n",
        "  elif jogador == 1:\n",
        "    print('Computador Vence!')\n",
        " "
      ],
      "metadata": {
        "colab": {
          "base_uri": "https://localhost:8080/"
        },
        "id": "z7Qt7lCXKTk8",
        "outputId": "b760d4c3-4ce5-464a-8dd6-15d8ce852b77"
      },
      "execution_count": 12,
      "outputs": [
        {
          "output_type": "stream",
          "name": "stdout",
          "text": [
            "=+==+==+==+==+==+==+==+==+==+==+==+==+==+==+==+==+==+==+==+=\n",
            "Vamos jogar Jokenpô:\n",
            "Suas opções: \n",
            "[ 0 ] PEDRA\n",
            "[ 1 ] PAPEL\n",
            "[ 2 ] TESOURA\n",
            "Sua jogada é: 2\n",
            "=+==+==+==+==+==+==+==+==+==+==+==+==+==+==+==+==+==+==+==+=\n",
            "JO\n",
            "KEN\n",
            "PÔ!!!!\n",
            "O Computador jogou PAPEL \n",
            "O jogador jogou TESOURA\n",
            "=+==+==+==+==+==+==+==+==+==+==+==+==+==+==+==+==+==+==+==+=\n",
            "Jogador Vence!\n"
          ]
        }
      ]
    }
  ]
}